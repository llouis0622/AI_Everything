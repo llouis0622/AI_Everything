{
 "cells": [
  {
   "cell_type": "code",
   "metadata": {
    "ExecuteTime": {
     "end_time": "2025-02-04T08:08:57.887856Z",
     "start_time": "2025-02-04T08:08:57.714398Z"
    }
   },
   "source": [
    "import pandas as pd"
   ],
   "outputs": [],
   "execution_count": 1
  },
  {
   "cell_type": "code",
   "metadata": {
    "ExecuteTime": {
     "end_time": "2025-02-04T08:08:58.454026Z",
     "start_time": "2025-02-04T08:08:58.446655Z"
    }
   },
   "source": [
    "df = pd.read_csv(\n",
    "    \"/Users/llouis/Desktop/LLouis/AI_Everything/1. 기초 수학 및 프로그래밍/1. 수학 기초/1. 선형대수학/11. 선형대수 적용/forestfires.csv\")"
   ],
   "outputs": [],
   "execution_count": 2
  },
  {
   "cell_type": "code",
   "metadata": {
    "ExecuteTime": {
     "end_time": "2025-02-04T08:08:59.277279Z",
     "start_time": "2025-02-04T08:08:59.269642Z"
    }
   },
   "source": [
    "df.head()"
   ],
   "outputs": [
    {
     "data": {
      "text/plain": [
       "   X  Y  FFMC   DMC     DC  ISI  temp  RH  wind  rain  area\n",
       "0  7  5  86.2  26.2   94.3  5.1   8.2  51   6.7   0.0   0.0\n",
       "1  7  4  90.6  35.4  669.1  6.7  18.0  33   0.9   0.0   0.0\n",
       "2  7  4  90.6  43.7  686.9  6.7  14.6  33   1.3   0.0   0.0\n",
       "3  8  6  91.7  33.3   77.5  9.0   8.3  97   4.0   0.2   0.0\n",
       "4  8  6  89.3  51.3  102.2  9.6  11.4  99   1.8   0.0   0.0"
      ],
      "text/html": [
       "<div>\n",
       "<style scoped>\n",
       "    .dataframe tbody tr th:only-of-type {\n",
       "        vertical-align: middle;\n",
       "    }\n",
       "\n",
       "    .dataframe tbody tr th {\n",
       "        vertical-align: top;\n",
       "    }\n",
       "\n",
       "    .dataframe thead th {\n",
       "        text-align: right;\n",
       "    }\n",
       "</style>\n",
       "<table border=\"1\" class=\"dataframe\">\n",
       "  <thead>\n",
       "    <tr style=\"text-align: right;\">\n",
       "      <th></th>\n",
       "      <th>X</th>\n",
       "      <th>Y</th>\n",
       "      <th>FFMC</th>\n",
       "      <th>DMC</th>\n",
       "      <th>DC</th>\n",
       "      <th>ISI</th>\n",
       "      <th>temp</th>\n",
       "      <th>RH</th>\n",
       "      <th>wind</th>\n",
       "      <th>rain</th>\n",
       "      <th>area</th>\n",
       "    </tr>\n",
       "  </thead>\n",
       "  <tbody>\n",
       "    <tr>\n",
       "      <th>0</th>\n",
       "      <td>7</td>\n",
       "      <td>5</td>\n",
       "      <td>86.2</td>\n",
       "      <td>26.2</td>\n",
       "      <td>94.3</td>\n",
       "      <td>5.1</td>\n",
       "      <td>8.2</td>\n",
       "      <td>51</td>\n",
       "      <td>6.7</td>\n",
       "      <td>0.0</td>\n",
       "      <td>0.0</td>\n",
       "    </tr>\n",
       "    <tr>\n",
       "      <th>1</th>\n",
       "      <td>7</td>\n",
       "      <td>4</td>\n",
       "      <td>90.6</td>\n",
       "      <td>35.4</td>\n",
       "      <td>669.1</td>\n",
       "      <td>6.7</td>\n",
       "      <td>18.0</td>\n",
       "      <td>33</td>\n",
       "      <td>0.9</td>\n",
       "      <td>0.0</td>\n",
       "      <td>0.0</td>\n",
       "    </tr>\n",
       "    <tr>\n",
       "      <th>2</th>\n",
       "      <td>7</td>\n",
       "      <td>4</td>\n",
       "      <td>90.6</td>\n",
       "      <td>43.7</td>\n",
       "      <td>686.9</td>\n",
       "      <td>6.7</td>\n",
       "      <td>14.6</td>\n",
       "      <td>33</td>\n",
       "      <td>1.3</td>\n",
       "      <td>0.0</td>\n",
       "      <td>0.0</td>\n",
       "    </tr>\n",
       "    <tr>\n",
       "      <th>3</th>\n",
       "      <td>8</td>\n",
       "      <td>6</td>\n",
       "      <td>91.7</td>\n",
       "      <td>33.3</td>\n",
       "      <td>77.5</td>\n",
       "      <td>9.0</td>\n",
       "      <td>8.3</td>\n",
       "      <td>97</td>\n",
       "      <td>4.0</td>\n",
       "      <td>0.2</td>\n",
       "      <td>0.0</td>\n",
       "    </tr>\n",
       "    <tr>\n",
       "      <th>4</th>\n",
       "      <td>8</td>\n",
       "      <td>6</td>\n",
       "      <td>89.3</td>\n",
       "      <td>51.3</td>\n",
       "      <td>102.2</td>\n",
       "      <td>9.6</td>\n",
       "      <td>11.4</td>\n",
       "      <td>99</td>\n",
       "      <td>1.8</td>\n",
       "      <td>0.0</td>\n",
       "      <td>0.0</td>\n",
       "    </tr>\n",
       "  </tbody>\n",
       "</table>\n",
       "</div>"
      ]
     },
     "execution_count": 3,
     "metadata": {},
     "output_type": "execute_result"
    }
   ],
   "execution_count": 3
  },
  {
   "cell_type": "markdown",
   "metadata": {},
   "source": [
    "## 6번째 열 추출"
   ]
  },
  {
   "cell_type": "code",
   "metadata": {
    "ExecuteTime": {
     "end_time": "2025-02-04T08:09:03.394869Z",
     "start_time": "2025-02-04T08:09:03.390308Z"
    }
   },
   "source": [
    "df.iloc[:, 5]"
   ],
   "outputs": [
    {
     "data": {
      "text/plain": [
       "0       5.1\n",
       "1       6.7\n",
       "2       6.7\n",
       "3       9.0\n",
       "4       9.6\n",
       "       ... \n",
       "512     1.9\n",
       "513     1.9\n",
       "514     1.9\n",
       "515    11.3\n",
       "516     1.1\n",
       "Name: ISI, Length: 517, dtype: float64"
      ]
     },
     "execution_count": 4,
     "metadata": {},
     "output_type": "execute_result"
    }
   ],
   "execution_count": 4
  },
  {
   "cell_type": "code",
   "metadata": {
    "ExecuteTime": {
     "end_time": "2025-02-04T08:09:04.065668Z",
     "start_time": "2025-02-04T08:09:04.061914Z"
    }
   },
   "source": [
    "df['ISI']"
   ],
   "outputs": [
    {
     "data": {
      "text/plain": [
       "0       5.1\n",
       "1       6.7\n",
       "2       6.7\n",
       "3       9.0\n",
       "4       9.6\n",
       "       ... \n",
       "512     1.9\n",
       "513     1.9\n",
       "514     1.9\n",
       "515    11.3\n",
       "516     1.1\n",
       "Name: ISI, Length: 517, dtype: float64"
      ]
     },
     "execution_count": 5,
     "metadata": {},
     "output_type": "execute_result"
    }
   ],
   "execution_count": 5
  },
  {
   "cell_type": "markdown",
   "metadata": {},
   "source": [
    "## 7번째 열 추출"
   ]
  },
  {
   "cell_type": "code",
   "metadata": {
    "ExecuteTime": {
     "end_time": "2025-02-04T08:09:07.245036Z",
     "start_time": "2025-02-04T08:09:07.241864Z"
    }
   },
   "source": [
    "df.iloc[:, 6]"
   ],
   "outputs": [
    {
     "data": {
      "text/plain": [
       "0       8.2\n",
       "1      18.0\n",
       "2      14.6\n",
       "3       8.3\n",
       "4      11.4\n",
       "       ... \n",
       "512    27.8\n",
       "513    21.9\n",
       "514    21.2\n",
       "515    25.6\n",
       "516    11.8\n",
       "Name: temp, Length: 517, dtype: float64"
      ]
     },
     "execution_count": 6,
     "metadata": {},
     "output_type": "execute_result"
    }
   ],
   "execution_count": 6
  },
  {
   "cell_type": "code",
   "metadata": {
    "ExecuteTime": {
     "end_time": "2025-02-04T08:09:07.729277Z",
     "start_time": "2025-02-04T08:09:07.725860Z"
    }
   },
   "source": [
    "df['temp']"
   ],
   "outputs": [
    {
     "data": {
      "text/plain": [
       "0       8.2\n",
       "1      18.0\n",
       "2      14.6\n",
       "3       8.3\n",
       "4      11.4\n",
       "       ... \n",
       "512    27.8\n",
       "513    21.9\n",
       "514    21.2\n",
       "515    25.6\n",
       "516    11.8\n",
       "Name: temp, Length: 517, dtype: float64"
      ]
     },
     "execution_count": 7,
     "metadata": {},
     "output_type": "execute_result"
    }
   ],
   "execution_count": 7
  },
  {
   "cell_type": "markdown",
   "metadata": {},
   "source": [
    "## 6번째 열 + 7번째 열"
   ]
  },
  {
   "cell_type": "code",
   "metadata": {
    "ExecuteTime": {
     "end_time": "2025-02-04T08:09:10.218058Z",
     "start_time": "2025-02-04T08:09:10.215130Z"
    }
   },
   "source": [
    "ISI = df['ISI']\n",
    "temp = df['temp']"
   ],
   "outputs": [],
   "execution_count": 8
  },
  {
   "cell_type": "code",
   "metadata": {
    "ExecuteTime": {
     "end_time": "2025-02-04T08:09:10.668866Z",
     "start_time": "2025-02-04T08:09:10.665030Z"
    }
   },
   "source": [
    "ISI + temp"
   ],
   "outputs": [
    {
     "data": {
      "text/plain": [
       "0      13.3\n",
       "1      24.7\n",
       "2      21.3\n",
       "3      17.3\n",
       "4      21.0\n",
       "       ... \n",
       "512    29.7\n",
       "513    23.8\n",
       "514    23.1\n",
       "515    36.9\n",
       "516    12.9\n",
       "Length: 517, dtype: float64"
      ]
     },
     "execution_count": 9,
     "metadata": {},
     "output_type": "execute_result"
    }
   ],
   "execution_count": 9
  },
  {
   "cell_type": "markdown",
   "metadata": {},
   "source": [
    "# 6번째 열, 7번째 열 내적"
   ]
  },
  {
   "cell_type": "code",
   "metadata": {
    "ExecuteTime": {
     "end_time": "2025-02-04T08:09:12.078039Z",
     "start_time": "2025-02-04T08:09:12.075103Z"
    }
   },
   "source": [
    "import numpy as np\n",
    "\n",
    "ISI.dot(temp)"
   ],
   "outputs": [
    {
     "data": {
      "text/plain": [
       "np.float64(93489.29000000001)"
      ]
     },
     "execution_count": 10,
     "metadata": {},
     "output_type": "execute_result"
    }
   ],
   "execution_count": 10
  },
  {
   "cell_type": "markdown",
   "metadata": {},
   "source": [
    "## 전치행렬 구하기"
   ]
  },
  {
   "cell_type": "code",
   "metadata": {
    "ExecuteTime": {
     "end_time": "2025-02-04T08:09:13.160465Z",
     "start_time": "2025-02-04T08:09:13.157109Z"
    }
   },
   "source": [
    "import numpy as np\n",
    "\n",
    "df_t = np.transpose(df)"
   ],
   "outputs": [],
   "execution_count": 11
  },
  {
   "cell_type": "code",
   "metadata": {
    "ExecuteTime": {
     "end_time": "2025-02-04T08:09:14.020990Z",
     "start_time": "2025-02-04T08:09:14.006194Z"
    }
   },
   "source": [
    "df_t"
   ],
   "outputs": [
    {
     "data": {
      "text/plain": [
       "       0      1      2     3      4      5      6      7      8      9    ...  \\\n",
       "X      7.0    7.0    7.0   8.0    8.0    8.0    8.0    8.0    8.0    7.0  ...   \n",
       "Y      5.0    4.0    4.0   6.0    6.0    6.0    6.0    6.0    6.0    5.0  ...   \n",
       "FFMC  86.2   90.6   90.6  91.7   89.3   92.3   92.3   91.5   91.0   92.5  ...   \n",
       "DMC   26.2   35.4   43.7  33.3   51.3   85.3   88.9  145.4  129.5   88.0  ...   \n",
       "DC    94.3  669.1  686.9  77.5  102.2  488.0  495.6  608.2  692.6  698.6  ...   \n",
       "ISI    5.1    6.7    6.7   9.0    9.6   14.7    8.5   10.7    7.0    7.1  ...   \n",
       "temp   8.2   18.0   14.6   8.3   11.4   22.2   24.1    8.0   13.1   22.8  ...   \n",
       "RH    51.0   33.0   33.0  97.0   99.0   29.0   27.0   86.0   63.0   40.0  ...   \n",
       "wind   6.7    0.9    1.3   4.0    1.8    5.4    3.1    2.2    5.4    4.0  ...   \n",
       "rain   0.0    0.0    0.0   0.2    0.0    0.0    0.0    0.0    0.0    0.0  ...   \n",
       "area   0.0    0.0    0.0   0.0    0.0    0.0    0.0    0.0    0.0    0.0  ...   \n",
       "\n",
       "        507    508     509     510    511     512     513     514    515  \\\n",
       "X       2.0    1.0    5.00    6.00    8.0    4.00    2.00    7.00    1.0   \n",
       "Y       4.0    2.0    4.00    5.00    6.0    3.00    4.00    4.00    4.0   \n",
       "FFMC   91.0   91.0   91.00   91.00   81.6   81.60   81.60   81.60   94.4   \n",
       "DMC   166.9  166.9  166.90  166.90   56.7   56.70   56.70   56.70  146.0   \n",
       "DC    752.6  752.6  752.60  752.60  665.6  665.60  665.60  665.60  614.7   \n",
       "ISI     7.1    7.1    7.10    7.10    1.9    1.90    1.90    1.90   11.3   \n",
       "temp   25.9   25.9   21.10   18.20   27.8   27.80   21.90   21.20   25.6   \n",
       "RH     41.0   41.0   71.00   62.00   35.0   32.00   71.00   70.00   42.0   \n",
       "wind    3.6    3.6    7.60    5.40    2.7    2.70    5.80    6.70    4.0   \n",
       "rain    0.0    0.0    1.40    0.00    0.0    0.00    0.00    0.00    0.0   \n",
       "area    0.0    0.0    2.17    0.43    0.0    6.44   54.29   11.16    0.0   \n",
       "\n",
       "        516  \n",
       "X       6.0  \n",
       "Y       3.0  \n",
       "FFMC   79.5  \n",
       "DMC     3.0  \n",
       "DC    106.7  \n",
       "ISI     1.1  \n",
       "temp   11.8  \n",
       "RH     31.0  \n",
       "wind    4.5  \n",
       "rain    0.0  \n",
       "area    0.0  \n",
       "\n",
       "[11 rows x 517 columns]"
      ],
      "text/html": [
       "<div>\n",
       "<style scoped>\n",
       "    .dataframe tbody tr th:only-of-type {\n",
       "        vertical-align: middle;\n",
       "    }\n",
       "\n",
       "    .dataframe tbody tr th {\n",
       "        vertical-align: top;\n",
       "    }\n",
       "\n",
       "    .dataframe thead th {\n",
       "        text-align: right;\n",
       "    }\n",
       "</style>\n",
       "<table border=\"1\" class=\"dataframe\">\n",
       "  <thead>\n",
       "    <tr style=\"text-align: right;\">\n",
       "      <th></th>\n",
       "      <th>0</th>\n",
       "      <th>1</th>\n",
       "      <th>2</th>\n",
       "      <th>3</th>\n",
       "      <th>4</th>\n",
       "      <th>5</th>\n",
       "      <th>6</th>\n",
       "      <th>7</th>\n",
       "      <th>8</th>\n",
       "      <th>9</th>\n",
       "      <th>...</th>\n",
       "      <th>507</th>\n",
       "      <th>508</th>\n",
       "      <th>509</th>\n",
       "      <th>510</th>\n",
       "      <th>511</th>\n",
       "      <th>512</th>\n",
       "      <th>513</th>\n",
       "      <th>514</th>\n",
       "      <th>515</th>\n",
       "      <th>516</th>\n",
       "    </tr>\n",
       "  </thead>\n",
       "  <tbody>\n",
       "    <tr>\n",
       "      <th>X</th>\n",
       "      <td>7.0</td>\n",
       "      <td>7.0</td>\n",
       "      <td>7.0</td>\n",
       "      <td>8.0</td>\n",
       "      <td>8.0</td>\n",
       "      <td>8.0</td>\n",
       "      <td>8.0</td>\n",
       "      <td>8.0</td>\n",
       "      <td>8.0</td>\n",
       "      <td>7.0</td>\n",
       "      <td>...</td>\n",
       "      <td>2.0</td>\n",
       "      <td>1.0</td>\n",
       "      <td>5.00</td>\n",
       "      <td>6.00</td>\n",
       "      <td>8.0</td>\n",
       "      <td>4.00</td>\n",
       "      <td>2.00</td>\n",
       "      <td>7.00</td>\n",
       "      <td>1.0</td>\n",
       "      <td>6.0</td>\n",
       "    </tr>\n",
       "    <tr>\n",
       "      <th>Y</th>\n",
       "      <td>5.0</td>\n",
       "      <td>4.0</td>\n",
       "      <td>4.0</td>\n",
       "      <td>6.0</td>\n",
       "      <td>6.0</td>\n",
       "      <td>6.0</td>\n",
       "      <td>6.0</td>\n",
       "      <td>6.0</td>\n",
       "      <td>6.0</td>\n",
       "      <td>5.0</td>\n",
       "      <td>...</td>\n",
       "      <td>4.0</td>\n",
       "      <td>2.0</td>\n",
       "      <td>4.00</td>\n",
       "      <td>5.00</td>\n",
       "      <td>6.0</td>\n",
       "      <td>3.00</td>\n",
       "      <td>4.00</td>\n",
       "      <td>4.00</td>\n",
       "      <td>4.0</td>\n",
       "      <td>3.0</td>\n",
       "    </tr>\n",
       "    <tr>\n",
       "      <th>FFMC</th>\n",
       "      <td>86.2</td>\n",
       "      <td>90.6</td>\n",
       "      <td>90.6</td>\n",
       "      <td>91.7</td>\n",
       "      <td>89.3</td>\n",
       "      <td>92.3</td>\n",
       "      <td>92.3</td>\n",
       "      <td>91.5</td>\n",
       "      <td>91.0</td>\n",
       "      <td>92.5</td>\n",
       "      <td>...</td>\n",
       "      <td>91.0</td>\n",
       "      <td>91.0</td>\n",
       "      <td>91.00</td>\n",
       "      <td>91.00</td>\n",
       "      <td>81.6</td>\n",
       "      <td>81.60</td>\n",
       "      <td>81.60</td>\n",
       "      <td>81.60</td>\n",
       "      <td>94.4</td>\n",
       "      <td>79.5</td>\n",
       "    </tr>\n",
       "    <tr>\n",
       "      <th>DMC</th>\n",
       "      <td>26.2</td>\n",
       "      <td>35.4</td>\n",
       "      <td>43.7</td>\n",
       "      <td>33.3</td>\n",
       "      <td>51.3</td>\n",
       "      <td>85.3</td>\n",
       "      <td>88.9</td>\n",
       "      <td>145.4</td>\n",
       "      <td>129.5</td>\n",
       "      <td>88.0</td>\n",
       "      <td>...</td>\n",
       "      <td>166.9</td>\n",
       "      <td>166.9</td>\n",
       "      <td>166.90</td>\n",
       "      <td>166.90</td>\n",
       "      <td>56.7</td>\n",
       "      <td>56.70</td>\n",
       "      <td>56.70</td>\n",
       "      <td>56.70</td>\n",
       "      <td>146.0</td>\n",
       "      <td>3.0</td>\n",
       "    </tr>\n",
       "    <tr>\n",
       "      <th>DC</th>\n",
       "      <td>94.3</td>\n",
       "      <td>669.1</td>\n",
       "      <td>686.9</td>\n",
       "      <td>77.5</td>\n",
       "      <td>102.2</td>\n",
       "      <td>488.0</td>\n",
       "      <td>495.6</td>\n",
       "      <td>608.2</td>\n",
       "      <td>692.6</td>\n",
       "      <td>698.6</td>\n",
       "      <td>...</td>\n",
       "      <td>752.6</td>\n",
       "      <td>752.6</td>\n",
       "      <td>752.60</td>\n",
       "      <td>752.60</td>\n",
       "      <td>665.6</td>\n",
       "      <td>665.60</td>\n",
       "      <td>665.60</td>\n",
       "      <td>665.60</td>\n",
       "      <td>614.7</td>\n",
       "      <td>106.7</td>\n",
       "    </tr>\n",
       "    <tr>\n",
       "      <th>ISI</th>\n",
       "      <td>5.1</td>\n",
       "      <td>6.7</td>\n",
       "      <td>6.7</td>\n",
       "      <td>9.0</td>\n",
       "      <td>9.6</td>\n",
       "      <td>14.7</td>\n",
       "      <td>8.5</td>\n",
       "      <td>10.7</td>\n",
       "      <td>7.0</td>\n",
       "      <td>7.1</td>\n",
       "      <td>...</td>\n",
       "      <td>7.1</td>\n",
       "      <td>7.1</td>\n",
       "      <td>7.10</td>\n",
       "      <td>7.10</td>\n",
       "      <td>1.9</td>\n",
       "      <td>1.90</td>\n",
       "      <td>1.90</td>\n",
       "      <td>1.90</td>\n",
       "      <td>11.3</td>\n",
       "      <td>1.1</td>\n",
       "    </tr>\n",
       "    <tr>\n",
       "      <th>temp</th>\n",
       "      <td>8.2</td>\n",
       "      <td>18.0</td>\n",
       "      <td>14.6</td>\n",
       "      <td>8.3</td>\n",
       "      <td>11.4</td>\n",
       "      <td>22.2</td>\n",
       "      <td>24.1</td>\n",
       "      <td>8.0</td>\n",
       "      <td>13.1</td>\n",
       "      <td>22.8</td>\n",
       "      <td>...</td>\n",
       "      <td>25.9</td>\n",
       "      <td>25.9</td>\n",
       "      <td>21.10</td>\n",
       "      <td>18.20</td>\n",
       "      <td>27.8</td>\n",
       "      <td>27.80</td>\n",
       "      <td>21.90</td>\n",
       "      <td>21.20</td>\n",
       "      <td>25.6</td>\n",
       "      <td>11.8</td>\n",
       "    </tr>\n",
       "    <tr>\n",
       "      <th>RH</th>\n",
       "      <td>51.0</td>\n",
       "      <td>33.0</td>\n",
       "      <td>33.0</td>\n",
       "      <td>97.0</td>\n",
       "      <td>99.0</td>\n",
       "      <td>29.0</td>\n",
       "      <td>27.0</td>\n",
       "      <td>86.0</td>\n",
       "      <td>63.0</td>\n",
       "      <td>40.0</td>\n",
       "      <td>...</td>\n",
       "      <td>41.0</td>\n",
       "      <td>41.0</td>\n",
       "      <td>71.00</td>\n",
       "      <td>62.00</td>\n",
       "      <td>35.0</td>\n",
       "      <td>32.00</td>\n",
       "      <td>71.00</td>\n",
       "      <td>70.00</td>\n",
       "      <td>42.0</td>\n",
       "      <td>31.0</td>\n",
       "    </tr>\n",
       "    <tr>\n",
       "      <th>wind</th>\n",
       "      <td>6.7</td>\n",
       "      <td>0.9</td>\n",
       "      <td>1.3</td>\n",
       "      <td>4.0</td>\n",
       "      <td>1.8</td>\n",
       "      <td>5.4</td>\n",
       "      <td>3.1</td>\n",
       "      <td>2.2</td>\n",
       "      <td>5.4</td>\n",
       "      <td>4.0</td>\n",
       "      <td>...</td>\n",
       "      <td>3.6</td>\n",
       "      <td>3.6</td>\n",
       "      <td>7.60</td>\n",
       "      <td>5.40</td>\n",
       "      <td>2.7</td>\n",
       "      <td>2.70</td>\n",
       "      <td>5.80</td>\n",
       "      <td>6.70</td>\n",
       "      <td>4.0</td>\n",
       "      <td>4.5</td>\n",
       "    </tr>\n",
       "    <tr>\n",
       "      <th>rain</th>\n",
       "      <td>0.0</td>\n",
       "      <td>0.0</td>\n",
       "      <td>0.0</td>\n",
       "      <td>0.2</td>\n",
       "      <td>0.0</td>\n",
       "      <td>0.0</td>\n",
       "      <td>0.0</td>\n",
       "      <td>0.0</td>\n",
       "      <td>0.0</td>\n",
       "      <td>0.0</td>\n",
       "      <td>...</td>\n",
       "      <td>0.0</td>\n",
       "      <td>0.0</td>\n",
       "      <td>1.40</td>\n",
       "      <td>0.00</td>\n",
       "      <td>0.0</td>\n",
       "      <td>0.00</td>\n",
       "      <td>0.00</td>\n",
       "      <td>0.00</td>\n",
       "      <td>0.0</td>\n",
       "      <td>0.0</td>\n",
       "    </tr>\n",
       "    <tr>\n",
       "      <th>area</th>\n",
       "      <td>0.0</td>\n",
       "      <td>0.0</td>\n",
       "      <td>0.0</td>\n",
       "      <td>0.0</td>\n",
       "      <td>0.0</td>\n",
       "      <td>0.0</td>\n",
       "      <td>0.0</td>\n",
       "      <td>0.0</td>\n",
       "      <td>0.0</td>\n",
       "      <td>0.0</td>\n",
       "      <td>...</td>\n",
       "      <td>0.0</td>\n",
       "      <td>0.0</td>\n",
       "      <td>2.17</td>\n",
       "      <td>0.43</td>\n",
       "      <td>0.0</td>\n",
       "      <td>6.44</td>\n",
       "      <td>54.29</td>\n",
       "      <td>11.16</td>\n",
       "      <td>0.0</td>\n",
       "      <td>0.0</td>\n",
       "    </tr>\n",
       "  </tbody>\n",
       "</table>\n",
       "<p>11 rows × 517 columns</p>\n",
       "</div>"
      ]
     },
     "execution_count": 12,
     "metadata": {},
     "output_type": "execute_result"
    }
   ],
   "execution_count": 12
  },
  {
   "cell_type": "code",
   "metadata": {
    "ExecuteTime": {
     "end_time": "2025-02-04T08:09:16.694586Z",
     "start_time": "2025-02-04T08:09:16.691256Z"
    }
   },
   "source": [
    "df.shape"
   ],
   "outputs": [
    {
     "data": {
      "text/plain": [
       "(517, 11)"
      ]
     },
     "execution_count": 13,
     "metadata": {},
     "output_type": "execute_result"
    }
   ],
   "execution_count": 13
  },
  {
   "cell_type": "code",
   "metadata": {
    "ExecuteTime": {
     "end_time": "2025-02-04T08:09:17.366970Z",
     "start_time": "2025-02-04T08:09:17.363704Z"
    }
   },
   "source": [
    "df_t.shape"
   ],
   "outputs": [
    {
     "data": {
      "text/plain": [
       "(11, 517)"
      ]
     },
     "execution_count": 14,
     "metadata": {},
     "output_type": "execute_result"
    }
   ],
   "execution_count": 14
  },
  {
   "cell_type": "markdown",
   "metadata": {},
   "source": [
    "# 피처/타겟 데이터 분할"
   ]
  },
  {
   "cell_type": "code",
   "metadata": {
    "ExecuteTime": {
     "end_time": "2025-02-04T08:09:18.670491Z",
     "start_time": "2025-02-04T08:09:18.667234Z"
    }
   },
   "source": [
    "feature = ['X', 'Y', 'FFMC', 'DMC', 'DC', 'ISI', 'temp', 'RH', 'wind', 'rain']\n",
    "X = df[feature]\n",
    "y = df['area']"
   ],
   "outputs": [],
   "execution_count": 15
  },
  {
   "cell_type": "code",
   "metadata": {
    "ExecuteTime": {
     "end_time": "2025-02-04T08:09:19.855044Z",
     "start_time": "2025-02-04T08:09:19.845339Z"
    }
   },
   "source": [
    "X"
   ],
   "outputs": [
    {
     "data": {
      "text/plain": [
       "     X  Y  FFMC    DMC     DC   ISI  temp  RH  wind  rain\n",
       "0    7  5  86.2   26.2   94.3   5.1   8.2  51   6.7   0.0\n",
       "1    7  4  90.6   35.4  669.1   6.7  18.0  33   0.9   0.0\n",
       "2    7  4  90.6   43.7  686.9   6.7  14.6  33   1.3   0.0\n",
       "3    8  6  91.7   33.3   77.5   9.0   8.3  97   4.0   0.2\n",
       "4    8  6  89.3   51.3  102.2   9.6  11.4  99   1.8   0.0\n",
       "..  .. ..   ...    ...    ...   ...   ...  ..   ...   ...\n",
       "512  4  3  81.6   56.7  665.6   1.9  27.8  32   2.7   0.0\n",
       "513  2  4  81.6   56.7  665.6   1.9  21.9  71   5.8   0.0\n",
       "514  7  4  81.6   56.7  665.6   1.9  21.2  70   6.7   0.0\n",
       "515  1  4  94.4  146.0  614.7  11.3  25.6  42   4.0   0.0\n",
       "516  6  3  79.5    3.0  106.7   1.1  11.8  31   4.5   0.0\n",
       "\n",
       "[517 rows x 10 columns]"
      ],
      "text/html": [
       "<div>\n",
       "<style scoped>\n",
       "    .dataframe tbody tr th:only-of-type {\n",
       "        vertical-align: middle;\n",
       "    }\n",
       "\n",
       "    .dataframe tbody tr th {\n",
       "        vertical-align: top;\n",
       "    }\n",
       "\n",
       "    .dataframe thead th {\n",
       "        text-align: right;\n",
       "    }\n",
       "</style>\n",
       "<table border=\"1\" class=\"dataframe\">\n",
       "  <thead>\n",
       "    <tr style=\"text-align: right;\">\n",
       "      <th></th>\n",
       "      <th>X</th>\n",
       "      <th>Y</th>\n",
       "      <th>FFMC</th>\n",
       "      <th>DMC</th>\n",
       "      <th>DC</th>\n",
       "      <th>ISI</th>\n",
       "      <th>temp</th>\n",
       "      <th>RH</th>\n",
       "      <th>wind</th>\n",
       "      <th>rain</th>\n",
       "    </tr>\n",
       "  </thead>\n",
       "  <tbody>\n",
       "    <tr>\n",
       "      <th>0</th>\n",
       "      <td>7</td>\n",
       "      <td>5</td>\n",
       "      <td>86.2</td>\n",
       "      <td>26.2</td>\n",
       "      <td>94.3</td>\n",
       "      <td>5.1</td>\n",
       "      <td>8.2</td>\n",
       "      <td>51</td>\n",
       "      <td>6.7</td>\n",
       "      <td>0.0</td>\n",
       "    </tr>\n",
       "    <tr>\n",
       "      <th>1</th>\n",
       "      <td>7</td>\n",
       "      <td>4</td>\n",
       "      <td>90.6</td>\n",
       "      <td>35.4</td>\n",
       "      <td>669.1</td>\n",
       "      <td>6.7</td>\n",
       "      <td>18.0</td>\n",
       "      <td>33</td>\n",
       "      <td>0.9</td>\n",
       "      <td>0.0</td>\n",
       "    </tr>\n",
       "    <tr>\n",
       "      <th>2</th>\n",
       "      <td>7</td>\n",
       "      <td>4</td>\n",
       "      <td>90.6</td>\n",
       "      <td>43.7</td>\n",
       "      <td>686.9</td>\n",
       "      <td>6.7</td>\n",
       "      <td>14.6</td>\n",
       "      <td>33</td>\n",
       "      <td>1.3</td>\n",
       "      <td>0.0</td>\n",
       "    </tr>\n",
       "    <tr>\n",
       "      <th>3</th>\n",
       "      <td>8</td>\n",
       "      <td>6</td>\n",
       "      <td>91.7</td>\n",
       "      <td>33.3</td>\n",
       "      <td>77.5</td>\n",
       "      <td>9.0</td>\n",
       "      <td>8.3</td>\n",
       "      <td>97</td>\n",
       "      <td>4.0</td>\n",
       "      <td>0.2</td>\n",
       "    </tr>\n",
       "    <tr>\n",
       "      <th>4</th>\n",
       "      <td>8</td>\n",
       "      <td>6</td>\n",
       "      <td>89.3</td>\n",
       "      <td>51.3</td>\n",
       "      <td>102.2</td>\n",
       "      <td>9.6</td>\n",
       "      <td>11.4</td>\n",
       "      <td>99</td>\n",
       "      <td>1.8</td>\n",
       "      <td>0.0</td>\n",
       "    </tr>\n",
       "    <tr>\n",
       "      <th>...</th>\n",
       "      <td>...</td>\n",
       "      <td>...</td>\n",
       "      <td>...</td>\n",
       "      <td>...</td>\n",
       "      <td>...</td>\n",
       "      <td>...</td>\n",
       "      <td>...</td>\n",
       "      <td>...</td>\n",
       "      <td>...</td>\n",
       "      <td>...</td>\n",
       "    </tr>\n",
       "    <tr>\n",
       "      <th>512</th>\n",
       "      <td>4</td>\n",
       "      <td>3</td>\n",
       "      <td>81.6</td>\n",
       "      <td>56.7</td>\n",
       "      <td>665.6</td>\n",
       "      <td>1.9</td>\n",
       "      <td>27.8</td>\n",
       "      <td>32</td>\n",
       "      <td>2.7</td>\n",
       "      <td>0.0</td>\n",
       "    </tr>\n",
       "    <tr>\n",
       "      <th>513</th>\n",
       "      <td>2</td>\n",
       "      <td>4</td>\n",
       "      <td>81.6</td>\n",
       "      <td>56.7</td>\n",
       "      <td>665.6</td>\n",
       "      <td>1.9</td>\n",
       "      <td>21.9</td>\n",
       "      <td>71</td>\n",
       "      <td>5.8</td>\n",
       "      <td>0.0</td>\n",
       "    </tr>\n",
       "    <tr>\n",
       "      <th>514</th>\n",
       "      <td>7</td>\n",
       "      <td>4</td>\n",
       "      <td>81.6</td>\n",
       "      <td>56.7</td>\n",
       "      <td>665.6</td>\n",
       "      <td>1.9</td>\n",
       "      <td>21.2</td>\n",
       "      <td>70</td>\n",
       "      <td>6.7</td>\n",
       "      <td>0.0</td>\n",
       "    </tr>\n",
       "    <tr>\n",
       "      <th>515</th>\n",
       "      <td>1</td>\n",
       "      <td>4</td>\n",
       "      <td>94.4</td>\n",
       "      <td>146.0</td>\n",
       "      <td>614.7</td>\n",
       "      <td>11.3</td>\n",
       "      <td>25.6</td>\n",
       "      <td>42</td>\n",
       "      <td>4.0</td>\n",
       "      <td>0.0</td>\n",
       "    </tr>\n",
       "    <tr>\n",
       "      <th>516</th>\n",
       "      <td>6</td>\n",
       "      <td>3</td>\n",
       "      <td>79.5</td>\n",
       "      <td>3.0</td>\n",
       "      <td>106.7</td>\n",
       "      <td>1.1</td>\n",
       "      <td>11.8</td>\n",
       "      <td>31</td>\n",
       "      <td>4.5</td>\n",
       "      <td>0.0</td>\n",
       "    </tr>\n",
       "  </tbody>\n",
       "</table>\n",
       "<p>517 rows × 10 columns</p>\n",
       "</div>"
      ]
     },
     "execution_count": 16,
     "metadata": {},
     "output_type": "execute_result"
    }
   ],
   "execution_count": 16
  },
  {
   "cell_type": "code",
   "metadata": {
    "ExecuteTime": {
     "end_time": "2025-02-04T08:09:20.637346Z",
     "start_time": "2025-02-04T08:09:20.634473Z"
    }
   },
   "source": [
    "y"
   ],
   "outputs": [
    {
     "data": {
      "text/plain": [
       "0       0.00\n",
       "1       0.00\n",
       "2       0.00\n",
       "3       0.00\n",
       "4       0.00\n",
       "       ...  \n",
       "512     6.44\n",
       "513    54.29\n",
       "514    11.16\n",
       "515     0.00\n",
       "516     0.00\n",
       "Name: area, Length: 517, dtype: float64"
      ]
     },
     "execution_count": 17,
     "metadata": {},
     "output_type": "execute_result"
    }
   ],
   "execution_count": 17
  },
  {
   "cell_type": "markdown",
   "metadata": {},
   "source": [
    "## 공분산 행렬 구하기"
   ]
  },
  {
   "cell_type": "code",
   "metadata": {
    "ExecuteTime": {
     "end_time": "2025-02-04T08:09:27.596504Z",
     "start_time": "2025-02-04T08:09:27.592574Z"
    }
   },
   "source": [
    "import numpy as np\n",
    "\n",
    "Xt = np.transpose(X)\n",
    "cov_X = np.cov(Xt)"
   ],
   "outputs": [],
   "execution_count": 19
  },
  {
   "cell_type": "code",
   "metadata": {
    "scrolled": true,
    "ExecuteTime": {
     "end_time": "2025-02-04T08:09:28.093582Z",
     "start_time": "2025-02-04T08:09:28.089578Z"
    }
   },
   "source": [
    "cov_X"
   ],
   "outputs": [
    {
     "data": {
      "text/plain": [
       "array([[ 5.35356784e+00,  1.53540102e+00, -2.68720106e-01,\n",
       "        -7.17001897e+00, -4.93132818e+01,  6.55124976e-02,\n",
       "        -6.88667101e-01,  3.21760155e+00,  7.79260942e-02,\n",
       "         4.47760635e-02],\n",
       "       [ 1.53540102e+00,  1.51265500e+00, -3.14390566e-01,\n",
       "         6.12959756e-01, -3.08690039e+01, -1.37321383e-01,\n",
       "        -1.72133882e-01,  1.24869926e+00, -4.48221702e-02,\n",
       "         1.20972216e-02],\n",
       "       [-2.68720106e-01, -3.14390566e-01,  3.04716238e+01,\n",
       "         1.35272459e+02,  4.52587277e+02,  1.33849023e+01,\n",
       "         1.38319965e+01, -2.71119330e+01, -2.81718209e-01,\n",
       "         9.26348342e-02],\n",
       "       [-7.17001897e+00,  6.12959756e-01,  1.35272459e+02,\n",
       "         4.10195189e+03,  1.08385013e+04,  8.91029647e+01,\n",
       "         1.74639099e+02,  7.71213591e+01, -1.20879231e+01,\n",
       "         1.41765463e+00],\n",
       "       [-4.93132818e+01, -3.08690039e+01,  4.52587277e+02,\n",
       "         1.08385013e+04,  6.15368355e+04,  2.59185313e+02,\n",
       "         7.14751694e+02, -1.58640438e+02, -9.04300084e+01,\n",
       "         2.63281311e+00],\n",
       "       [ 6.55124976e-02, -1.37321383e-01,  1.33849023e+01,\n",
       "         8.91029647e+01,  2.59185313e+02,  2.07888321e+01,\n",
       "         1.04388204e+01, -9.85916251e+00,  8.72660587e-01,\n",
       "         9.13127315e-02],\n",
       "       [-6.88667101e-01, -1.72133882e-01,  1.38319965e+01,\n",
       "         1.74639099e+02,  7.14751694e+02,  1.04388204e+01,\n",
       "         3.37168980e+01, -4.99699343e+01, -2.36279347e+00,\n",
       "         1.19421154e-01],\n",
       "       [ 3.21760155e+00,  1.24869926e+00, -2.71119330e+01,\n",
       "         7.71213591e+01, -1.58640438e+02, -9.85916251e+00,\n",
       "        -4.99699343e+01,  2.66259802e+02,  2.02921971e+00,\n",
       "         4.81728967e-01],\n",
       "       [ 7.79260942e-02, -4.48221702e-02, -2.81718209e-01,\n",
       "        -1.20879231e+01, -9.04300084e+01,  8.72660587e-01,\n",
       "        -2.36279347e+00,  2.02921971e+00,  3.21001904e+00,\n",
       "         3.24086486e-02],\n",
       "       [ 4.47760635e-02,  1.20972216e-02,  9.26348342e-02,\n",
       "         1.41765463e+00,  2.63281311e+00,  9.13127315e-02,\n",
       "         1.19421154e-01,  4.81728967e-01,  3.24086486e-02,\n",
       "         8.75918012e-02]])"
      ]
     },
     "execution_count": 20,
     "metadata": {},
     "output_type": "execute_result"
    }
   ],
   "execution_count": 20
  },
  {
   "cell_type": "code",
   "metadata": {
    "ExecuteTime": {
     "end_time": "2025-02-04T08:09:29.208499Z",
     "start_time": "2025-02-04T08:09:29.205286Z"
    }
   },
   "source": [
    "cov_X.shape"
   ],
   "outputs": [
    {
     "data": {
      "text/plain": [
       "(10, 10)"
      ]
     },
     "execution_count": 21,
     "metadata": {},
     "output_type": "execute_result"
    }
   ],
   "execution_count": 21
  },
  {
   "cell_type": "markdown",
   "metadata": {},
   "source": [
    "## 공분산 행렬이 대칭 행렬인지 확인"
   ]
  },
  {
   "cell_type": "code",
   "metadata": {
    "ExecuteTime": {
     "end_time": "2025-02-04T08:09:30.447742Z",
     "start_time": "2025-02-04T08:09:30.445660Z"
    }
   },
   "source": [
    "cov_Xt = np.transpose(cov_X)"
   ],
   "outputs": [],
   "execution_count": 22
  },
  {
   "cell_type": "code",
   "metadata": {
    "ExecuteTime": {
     "end_time": "2025-02-04T08:09:31.061973Z",
     "start_time": "2025-02-04T08:09:31.058175Z"
    }
   },
   "source": "np.array_equal(cov_X, cov_Xt)",
   "outputs": [
    {
     "data": {
      "text/plain": [
       "True"
      ]
     },
     "execution_count": 23,
     "metadata": {},
     "output_type": "execute_result"
    }
   ],
   "execution_count": 23
  },
  {
   "cell_type": "markdown",
   "metadata": {},
   "source": [
    "## 특이값 분해"
   ]
  },
  {
   "cell_type": "code",
   "metadata": {
    "ExecuteTime": {
     "end_time": "2025-02-04T08:09:32.526331Z",
     "start_time": "2025-02-04T08:09:32.520734Z"
    }
   },
   "source": [
    "import numpy as np\n",
    "\n",
    "U, S, Vt = np.linalg.svd(cov_X)"
   ],
   "outputs": [],
   "execution_count": 24
  },
  {
   "cell_type": "code",
   "metadata": {
    "ExecuteTime": {
     "end_time": "2025-02-04T08:09:33.478272Z",
     "start_time": "2025-02-04T08:09:33.474198Z"
    }
   },
   "source": [
    "U"
   ],
   "outputs": [
    {
     "data": {
      "text/plain": [
       "array([[-7.84161966e-04, -9.27379422e-04,  1.08658320e-02,\n",
       "        -2.63645372e-02,  3.52332542e-02, -3.65886924e-02,\n",
       "        -9.42981440e-01, -1.69298160e-02,  3.27187594e-01,\n",
       "        -7.27452344e-03],\n",
       "       [-4.76391370e-04, -2.90688105e-03,  3.13357839e-03,\n",
       "         2.44925122e-03,  2.20954020e-02, -2.14500189e-02,\n",
       "        -3.26540197e-01,  3.16837402e-02, -9.44135810e-01,\n",
       "         1.55168445e-03],\n",
       "       [ 7.39788693e-03, -2.40648773e-02, -1.20638390e-01,\n",
       "        -7.35224863e-01, -4.79913793e-01, -4.61483637e-01,\n",
       "         1.63414022e-02, -2.45747489e-02, -9.46634830e-03,\n",
       "        -3.45915203e-03],\n",
       "       [ 1.79460941e-01, -9.81553201e-01, -4.36605345e-02,\n",
       "         4.38094859e-02, -1.76489666e-02,  1.37466645e-02,\n",
       "        -1.22576354e-03,  3.49614055e-03,  2.71636640e-03,\n",
       "         1.04827539e-04],\n",
       "       [ 9.83655890e-01,  1.79440679e-01,  1.37191816e-02,\n",
       "         2.07028340e-03, -3.78024397e-03,  3.47075372e-03,\n",
       "        -1.40101029e-03, -9.06791209e-04, -7.11010526e-04,\n",
       "         5.45979080e-05],\n",
       "       [ 4.27009270e-03, -1.93781450e-02, -5.35283391e-02,\n",
       "        -6.25991140e-01,  2.80704097e-01,  7.13474334e-01,\n",
       "        -4.53171349e-03,  1.30323180e-01, -5.44168549e-03,\n",
       "         1.16947078e-03],\n",
       "       [ 1.15707684e-02, -1.95041695e-02, -2.01160835e-01,\n",
       "        -1.92315397e-01,  8.17936186e-01, -4.81283435e-01,\n",
       "         5.65020440e-02, -1.34293180e-01,  4.89670611e-03,\n",
       "        -1.14168799e-02],\n",
       "       [-2.26100024e-03, -5.48221278e-02,  9.69459104e-01,\n",
       "        -1.63493151e-01,  1.24704007e-01, -1.17976188e-01,\n",
       "         2.51268940e-02, -1.70467959e-02, -7.06996812e-04,\n",
       "        -4.06608451e-03],\n",
       "       [-1.43490489e-03, -2.08301747e-03,  6.32273979e-03,\n",
       "        -3.47936034e-02, -6.48935986e-02,  1.74351726e-01,\n",
       "        -3.36400240e-03, -9.81075757e-01, -3.73261994e-02,\n",
       "        -1.48028683e-02],\n",
       "       [ 4.47911510e-05, -4.46240649e-04,  1.46248864e-03,\n",
       "        -5.38810667e-03,  7.12197940e-03, -6.06010952e-03,\n",
       "        -5.59478901e-03, -1.65389064e-02,  3.31972426e-03,\n",
       "         9.99782638e-01]])"
      ]
     },
     "execution_count": 25,
     "metadata": {},
     "output_type": "execute_result"
    }
   ],
   "execution_count": 25
  },
  {
   "cell_type": "code",
   "metadata": {
    "ExecuteTime": {
     "end_time": "2025-02-04T08:09:34.222415Z",
     "start_time": "2025-02-04T08:09:34.219159Z"
    }
   },
   "source": [
    "S"
   ],
   "outputs": [
    {
     "data": {
      "text/plain": [
       "array([6.35277296e+04, 2.13335626e+03, 2.74882457e+02, 3.01009922e+01,\n",
       "       1.46476605e+01, 9.91077255e+00, 5.76371012e+00, 2.76170396e+00,\n",
       "       9.51625281e-01, 8.35607679e-02])"
      ]
     },
     "execution_count": 26,
     "metadata": {},
     "output_type": "execute_result"
    }
   ],
   "execution_count": 26
  },
  {
   "cell_type": "code",
   "metadata": {
    "ExecuteTime": {
     "end_time": "2025-02-04T08:09:34.845207Z",
     "start_time": "2025-02-04T08:09:34.841437Z"
    }
   },
   "source": [
    "Vt"
   ],
   "outputs": [
    {
     "data": {
      "text/plain": [
       "array([[-7.84161966e-04, -4.76391370e-04,  7.39788693e-03,\n",
       "         1.79460941e-01,  9.83655890e-01,  4.27009270e-03,\n",
       "         1.15707684e-02, -2.26100024e-03, -1.43490489e-03,\n",
       "         4.47911510e-05],\n",
       "       [-9.27379422e-04, -2.90688105e-03, -2.40648773e-02,\n",
       "        -9.81553201e-01,  1.79440679e-01, -1.93781450e-02,\n",
       "        -1.95041695e-02, -5.48221278e-02, -2.08301747e-03,\n",
       "        -4.46240649e-04],\n",
       "       [ 1.08658320e-02,  3.13357839e-03, -1.20638390e-01,\n",
       "        -4.36605345e-02,  1.37191816e-02, -5.35283391e-02,\n",
       "        -2.01160835e-01,  9.69459104e-01,  6.32273979e-03,\n",
       "         1.46248864e-03],\n",
       "       [-2.63645372e-02,  2.44925122e-03, -7.35224863e-01,\n",
       "         4.38094859e-02,  2.07028340e-03, -6.25991140e-01,\n",
       "        -1.92315397e-01, -1.63493151e-01, -3.47936034e-02,\n",
       "        -5.38810667e-03],\n",
       "       [ 3.52332542e-02,  2.20954020e-02, -4.79913793e-01,\n",
       "        -1.76489666e-02, -3.78024397e-03,  2.80704097e-01,\n",
       "         8.17936186e-01,  1.24704007e-01, -6.48935986e-02,\n",
       "         7.12197940e-03],\n",
       "       [-3.65886924e-02, -2.14500189e-02, -4.61483637e-01,\n",
       "         1.37466645e-02,  3.47075372e-03,  7.13474334e-01,\n",
       "        -4.81283435e-01, -1.17976188e-01,  1.74351726e-01,\n",
       "        -6.06010952e-03],\n",
       "       [-9.42981440e-01, -3.26540197e-01,  1.63414022e-02,\n",
       "        -1.22576354e-03, -1.40101029e-03, -4.53171349e-03,\n",
       "         5.65020440e-02,  2.51268940e-02, -3.36400240e-03,\n",
       "        -5.59478901e-03],\n",
       "       [-1.69298160e-02,  3.16837402e-02, -2.45747489e-02,\n",
       "         3.49614055e-03, -9.06791209e-04,  1.30323180e-01,\n",
       "        -1.34293180e-01, -1.70467959e-02, -9.81075757e-01,\n",
       "        -1.65389064e-02],\n",
       "       [ 3.27187594e-01, -9.44135810e-01, -9.46634830e-03,\n",
       "         2.71636640e-03, -7.11010526e-04, -5.44168549e-03,\n",
       "         4.89670611e-03, -7.06996812e-04, -3.73261994e-02,\n",
       "         3.31972426e-03],\n",
       "       [-7.27452344e-03,  1.55168445e-03, -3.45915203e-03,\n",
       "         1.04827539e-04,  5.45979080e-05,  1.16947078e-03,\n",
       "        -1.14168799e-02, -4.06608451e-03, -1.48028683e-02,\n",
       "         9.99782638e-01]])"
      ]
     },
     "execution_count": 27,
     "metadata": {},
     "output_type": "execute_result"
    }
   ],
   "execution_count": 27
  },
  {
   "cell_type": "markdown",
   "metadata": {},
   "source": [
    "# 머신러닝 적용"
   ]
  },
  {
   "cell_type": "code",
   "metadata": {
    "ExecuteTime": {
     "end_time": "2025-02-04T08:09:38.562908Z",
     "start_time": "2025-02-04T08:09:38.188729Z"
    }
   },
   "source": [
    "# 트레이닝/테스트 데이터 분할\n",
    "from sklearn.model_selection import train_test_split\n",
    "\n",
    "X_tn, X_te, y_tn, y_te = train_test_split(X, y, random_state=0)"
   ],
   "outputs": [],
   "execution_count": 28
  },
  {
   "cell_type": "code",
   "metadata": {
    "ExecuteTime": {
     "end_time": "2025-02-04T08:09:39.166680Z",
     "start_time": "2025-02-04T08:09:39.160249Z"
    }
   },
   "source": [
    "# 데이터 표준화\n",
    "from sklearn.preprocessing import StandardScaler\n",
    "\n",
    "std_scale = StandardScaler()\n",
    "std_scale.fit(X_tn)\n",
    "X_tn_std = std_scale.transform(X_tn)\n",
    "X_te_std = std_scale.transform(X_te)"
   ],
   "outputs": [],
   "execution_count": 29
  },
  {
   "cell_type": "code",
   "metadata": {
    "ExecuteTime": {
     "end_time": "2025-02-04T08:09:39.864719Z",
     "start_time": "2025-02-04T08:09:39.815336Z"
    }
   },
   "source": [
    "# KNN 회귀분석 학습\n",
    "from sklearn.neighbors import KNeighborsRegressor\n",
    "\n",
    "clf_knn = KNeighborsRegressor(n_neighbors=5)\n",
    "clf_knn.fit(X_tn_std, y_tn)"
   ],
   "outputs": [
    {
     "data": {
      "text/plain": [
       "KNeighborsRegressor()"
      ],
      "text/html": [
       "<style>#sk-container-id-1 {\n",
       "  /* Definition of color scheme common for light and dark mode */\n",
       "  --sklearn-color-text: #000;\n",
       "  --sklearn-color-text-muted: #666;\n",
       "  --sklearn-color-line: gray;\n",
       "  /* Definition of color scheme for unfitted estimators */\n",
       "  --sklearn-color-unfitted-level-0: #fff5e6;\n",
       "  --sklearn-color-unfitted-level-1: #f6e4d2;\n",
       "  --sklearn-color-unfitted-level-2: #ffe0b3;\n",
       "  --sklearn-color-unfitted-level-3: chocolate;\n",
       "  /* Definition of color scheme for fitted estimators */\n",
       "  --sklearn-color-fitted-level-0: #f0f8ff;\n",
       "  --sklearn-color-fitted-level-1: #d4ebff;\n",
       "  --sklearn-color-fitted-level-2: #b3dbfd;\n",
       "  --sklearn-color-fitted-level-3: cornflowerblue;\n",
       "\n",
       "  /* Specific color for light theme */\n",
       "  --sklearn-color-text-on-default-background: var(--sg-text-color, var(--theme-code-foreground, var(--jp-content-font-color1, black)));\n",
       "  --sklearn-color-background: var(--sg-background-color, var(--theme-background, var(--jp-layout-color0, white)));\n",
       "  --sklearn-color-border-box: var(--sg-text-color, var(--theme-code-foreground, var(--jp-content-font-color1, black)));\n",
       "  --sklearn-color-icon: #696969;\n",
       "\n",
       "  @media (prefers-color-scheme: dark) {\n",
       "    /* Redefinition of color scheme for dark theme */\n",
       "    --sklearn-color-text-on-default-background: var(--sg-text-color, var(--theme-code-foreground, var(--jp-content-font-color1, white)));\n",
       "    --sklearn-color-background: var(--sg-background-color, var(--theme-background, var(--jp-layout-color0, #111)));\n",
       "    --sklearn-color-border-box: var(--sg-text-color, var(--theme-code-foreground, var(--jp-content-font-color1, white)));\n",
       "    --sklearn-color-icon: #878787;\n",
       "  }\n",
       "}\n",
       "\n",
       "#sk-container-id-1 {\n",
       "  color: var(--sklearn-color-text);\n",
       "}\n",
       "\n",
       "#sk-container-id-1 pre {\n",
       "  padding: 0;\n",
       "}\n",
       "\n",
       "#sk-container-id-1 input.sk-hidden--visually {\n",
       "  border: 0;\n",
       "  clip: rect(1px 1px 1px 1px);\n",
       "  clip: rect(1px, 1px, 1px, 1px);\n",
       "  height: 1px;\n",
       "  margin: -1px;\n",
       "  overflow: hidden;\n",
       "  padding: 0;\n",
       "  position: absolute;\n",
       "  width: 1px;\n",
       "}\n",
       "\n",
       "#sk-container-id-1 div.sk-dashed-wrapped {\n",
       "  border: 1px dashed var(--sklearn-color-line);\n",
       "  margin: 0 0.4em 0.5em 0.4em;\n",
       "  box-sizing: border-box;\n",
       "  padding-bottom: 0.4em;\n",
       "  background-color: var(--sklearn-color-background);\n",
       "}\n",
       "\n",
       "#sk-container-id-1 div.sk-container {\n",
       "  /* jupyter's `normalize.less` sets `[hidden] { display: none; }`\n",
       "     but bootstrap.min.css set `[hidden] { display: none !important; }`\n",
       "     so we also need the `!important` here to be able to override the\n",
       "     default hidden behavior on the sphinx rendered scikit-learn.org.\n",
       "     See: https://github.com/scikit-learn/scikit-learn/issues/21755 */\n",
       "  display: inline-block !important;\n",
       "  position: relative;\n",
       "}\n",
       "\n",
       "#sk-container-id-1 div.sk-text-repr-fallback {\n",
       "  display: none;\n",
       "}\n",
       "\n",
       "div.sk-parallel-item,\n",
       "div.sk-serial,\n",
       "div.sk-item {\n",
       "  /* draw centered vertical line to link estimators */\n",
       "  background-image: linear-gradient(var(--sklearn-color-text-on-default-background), var(--sklearn-color-text-on-default-background));\n",
       "  background-size: 2px 100%;\n",
       "  background-repeat: no-repeat;\n",
       "  background-position: center center;\n",
       "}\n",
       "\n",
       "/* Parallel-specific style estimator block */\n",
       "\n",
       "#sk-container-id-1 div.sk-parallel-item::after {\n",
       "  content: \"\";\n",
       "  width: 100%;\n",
       "  border-bottom: 2px solid var(--sklearn-color-text-on-default-background);\n",
       "  flex-grow: 1;\n",
       "}\n",
       "\n",
       "#sk-container-id-1 div.sk-parallel {\n",
       "  display: flex;\n",
       "  align-items: stretch;\n",
       "  justify-content: center;\n",
       "  background-color: var(--sklearn-color-background);\n",
       "  position: relative;\n",
       "}\n",
       "\n",
       "#sk-container-id-1 div.sk-parallel-item {\n",
       "  display: flex;\n",
       "  flex-direction: column;\n",
       "}\n",
       "\n",
       "#sk-container-id-1 div.sk-parallel-item:first-child::after {\n",
       "  align-self: flex-end;\n",
       "  width: 50%;\n",
       "}\n",
       "\n",
       "#sk-container-id-1 div.sk-parallel-item:last-child::after {\n",
       "  align-self: flex-start;\n",
       "  width: 50%;\n",
       "}\n",
       "\n",
       "#sk-container-id-1 div.sk-parallel-item:only-child::after {\n",
       "  width: 0;\n",
       "}\n",
       "\n",
       "/* Serial-specific style estimator block */\n",
       "\n",
       "#sk-container-id-1 div.sk-serial {\n",
       "  display: flex;\n",
       "  flex-direction: column;\n",
       "  align-items: center;\n",
       "  background-color: var(--sklearn-color-background);\n",
       "  padding-right: 1em;\n",
       "  padding-left: 1em;\n",
       "}\n",
       "\n",
       "\n",
       "/* Toggleable style: style used for estimator/Pipeline/ColumnTransformer box that is\n",
       "clickable and can be expanded/collapsed.\n",
       "- Pipeline and ColumnTransformer use this feature and define the default style\n",
       "- Estimators will overwrite some part of the style using the `sk-estimator` class\n",
       "*/\n",
       "\n",
       "/* Pipeline and ColumnTransformer style (default) */\n",
       "\n",
       "#sk-container-id-1 div.sk-toggleable {\n",
       "  /* Default theme specific background. It is overwritten whether we have a\n",
       "  specific estimator or a Pipeline/ColumnTransformer */\n",
       "  background-color: var(--sklearn-color-background);\n",
       "}\n",
       "\n",
       "/* Toggleable label */\n",
       "#sk-container-id-1 label.sk-toggleable__label {\n",
       "  cursor: pointer;\n",
       "  display: flex;\n",
       "  width: 100%;\n",
       "  margin-bottom: 0;\n",
       "  padding: 0.5em;\n",
       "  box-sizing: border-box;\n",
       "  text-align: center;\n",
       "  align-items: start;\n",
       "  justify-content: space-between;\n",
       "  gap: 0.5em;\n",
       "}\n",
       "\n",
       "#sk-container-id-1 label.sk-toggleable__label .caption {\n",
       "  font-size: 0.6rem;\n",
       "  font-weight: lighter;\n",
       "  color: var(--sklearn-color-text-muted);\n",
       "}\n",
       "\n",
       "#sk-container-id-1 label.sk-toggleable__label-arrow:before {\n",
       "  /* Arrow on the left of the label */\n",
       "  content: \"▸\";\n",
       "  float: left;\n",
       "  margin-right: 0.25em;\n",
       "  color: var(--sklearn-color-icon);\n",
       "}\n",
       "\n",
       "#sk-container-id-1 label.sk-toggleable__label-arrow:hover:before {\n",
       "  color: var(--sklearn-color-text);\n",
       "}\n",
       "\n",
       "/* Toggleable content - dropdown */\n",
       "\n",
       "#sk-container-id-1 div.sk-toggleable__content {\n",
       "  max-height: 0;\n",
       "  max-width: 0;\n",
       "  overflow: hidden;\n",
       "  text-align: left;\n",
       "  /* unfitted */\n",
       "  background-color: var(--sklearn-color-unfitted-level-0);\n",
       "}\n",
       "\n",
       "#sk-container-id-1 div.sk-toggleable__content.fitted {\n",
       "  /* fitted */\n",
       "  background-color: var(--sklearn-color-fitted-level-0);\n",
       "}\n",
       "\n",
       "#sk-container-id-1 div.sk-toggleable__content pre {\n",
       "  margin: 0.2em;\n",
       "  border-radius: 0.25em;\n",
       "  color: var(--sklearn-color-text);\n",
       "  /* unfitted */\n",
       "  background-color: var(--sklearn-color-unfitted-level-0);\n",
       "}\n",
       "\n",
       "#sk-container-id-1 div.sk-toggleable__content.fitted pre {\n",
       "  /* unfitted */\n",
       "  background-color: var(--sklearn-color-fitted-level-0);\n",
       "}\n",
       "\n",
       "#sk-container-id-1 input.sk-toggleable__control:checked~div.sk-toggleable__content {\n",
       "  /* Expand drop-down */\n",
       "  max-height: 200px;\n",
       "  max-width: 100%;\n",
       "  overflow: auto;\n",
       "}\n",
       "\n",
       "#sk-container-id-1 input.sk-toggleable__control:checked~label.sk-toggleable__label-arrow:before {\n",
       "  content: \"▾\";\n",
       "}\n",
       "\n",
       "/* Pipeline/ColumnTransformer-specific style */\n",
       "\n",
       "#sk-container-id-1 div.sk-label input.sk-toggleable__control:checked~label.sk-toggleable__label {\n",
       "  color: var(--sklearn-color-text);\n",
       "  background-color: var(--sklearn-color-unfitted-level-2);\n",
       "}\n",
       "\n",
       "#sk-container-id-1 div.sk-label.fitted input.sk-toggleable__control:checked~label.sk-toggleable__label {\n",
       "  background-color: var(--sklearn-color-fitted-level-2);\n",
       "}\n",
       "\n",
       "/* Estimator-specific style */\n",
       "\n",
       "/* Colorize estimator box */\n",
       "#sk-container-id-1 div.sk-estimator input.sk-toggleable__control:checked~label.sk-toggleable__label {\n",
       "  /* unfitted */\n",
       "  background-color: var(--sklearn-color-unfitted-level-2);\n",
       "}\n",
       "\n",
       "#sk-container-id-1 div.sk-estimator.fitted input.sk-toggleable__control:checked~label.sk-toggleable__label {\n",
       "  /* fitted */\n",
       "  background-color: var(--sklearn-color-fitted-level-2);\n",
       "}\n",
       "\n",
       "#sk-container-id-1 div.sk-label label.sk-toggleable__label,\n",
       "#sk-container-id-1 div.sk-label label {\n",
       "  /* The background is the default theme color */\n",
       "  color: var(--sklearn-color-text-on-default-background);\n",
       "}\n",
       "\n",
       "/* On hover, darken the color of the background */\n",
       "#sk-container-id-1 div.sk-label:hover label.sk-toggleable__label {\n",
       "  color: var(--sklearn-color-text);\n",
       "  background-color: var(--sklearn-color-unfitted-level-2);\n",
       "}\n",
       "\n",
       "/* Label box, darken color on hover, fitted */\n",
       "#sk-container-id-1 div.sk-label.fitted:hover label.sk-toggleable__label.fitted {\n",
       "  color: var(--sklearn-color-text);\n",
       "  background-color: var(--sklearn-color-fitted-level-2);\n",
       "}\n",
       "\n",
       "/* Estimator label */\n",
       "\n",
       "#sk-container-id-1 div.sk-label label {\n",
       "  font-family: monospace;\n",
       "  font-weight: bold;\n",
       "  display: inline-block;\n",
       "  line-height: 1.2em;\n",
       "}\n",
       "\n",
       "#sk-container-id-1 div.sk-label-container {\n",
       "  text-align: center;\n",
       "}\n",
       "\n",
       "/* Estimator-specific */\n",
       "#sk-container-id-1 div.sk-estimator {\n",
       "  font-family: monospace;\n",
       "  border: 1px dotted var(--sklearn-color-border-box);\n",
       "  border-radius: 0.25em;\n",
       "  box-sizing: border-box;\n",
       "  margin-bottom: 0.5em;\n",
       "  /* unfitted */\n",
       "  background-color: var(--sklearn-color-unfitted-level-0);\n",
       "}\n",
       "\n",
       "#sk-container-id-1 div.sk-estimator.fitted {\n",
       "  /* fitted */\n",
       "  background-color: var(--sklearn-color-fitted-level-0);\n",
       "}\n",
       "\n",
       "/* on hover */\n",
       "#sk-container-id-1 div.sk-estimator:hover {\n",
       "  /* unfitted */\n",
       "  background-color: var(--sklearn-color-unfitted-level-2);\n",
       "}\n",
       "\n",
       "#sk-container-id-1 div.sk-estimator.fitted:hover {\n",
       "  /* fitted */\n",
       "  background-color: var(--sklearn-color-fitted-level-2);\n",
       "}\n",
       "\n",
       "/* Specification for estimator info (e.g. \"i\" and \"?\") */\n",
       "\n",
       "/* Common style for \"i\" and \"?\" */\n",
       "\n",
       ".sk-estimator-doc-link,\n",
       "a:link.sk-estimator-doc-link,\n",
       "a:visited.sk-estimator-doc-link {\n",
       "  float: right;\n",
       "  font-size: smaller;\n",
       "  line-height: 1em;\n",
       "  font-family: monospace;\n",
       "  background-color: var(--sklearn-color-background);\n",
       "  border-radius: 1em;\n",
       "  height: 1em;\n",
       "  width: 1em;\n",
       "  text-decoration: none !important;\n",
       "  margin-left: 0.5em;\n",
       "  text-align: center;\n",
       "  /* unfitted */\n",
       "  border: var(--sklearn-color-unfitted-level-1) 1pt solid;\n",
       "  color: var(--sklearn-color-unfitted-level-1);\n",
       "}\n",
       "\n",
       ".sk-estimator-doc-link.fitted,\n",
       "a:link.sk-estimator-doc-link.fitted,\n",
       "a:visited.sk-estimator-doc-link.fitted {\n",
       "  /* fitted */\n",
       "  border: var(--sklearn-color-fitted-level-1) 1pt solid;\n",
       "  color: var(--sklearn-color-fitted-level-1);\n",
       "}\n",
       "\n",
       "/* On hover */\n",
       "div.sk-estimator:hover .sk-estimator-doc-link:hover,\n",
       ".sk-estimator-doc-link:hover,\n",
       "div.sk-label-container:hover .sk-estimator-doc-link:hover,\n",
       ".sk-estimator-doc-link:hover {\n",
       "  /* unfitted */\n",
       "  background-color: var(--sklearn-color-unfitted-level-3);\n",
       "  color: var(--sklearn-color-background);\n",
       "  text-decoration: none;\n",
       "}\n",
       "\n",
       "div.sk-estimator.fitted:hover .sk-estimator-doc-link.fitted:hover,\n",
       ".sk-estimator-doc-link.fitted:hover,\n",
       "div.sk-label-container:hover .sk-estimator-doc-link.fitted:hover,\n",
       ".sk-estimator-doc-link.fitted:hover {\n",
       "  /* fitted */\n",
       "  background-color: var(--sklearn-color-fitted-level-3);\n",
       "  color: var(--sklearn-color-background);\n",
       "  text-decoration: none;\n",
       "}\n",
       "\n",
       "/* Span, style for the box shown on hovering the info icon */\n",
       ".sk-estimator-doc-link span {\n",
       "  display: none;\n",
       "  z-index: 9999;\n",
       "  position: relative;\n",
       "  font-weight: normal;\n",
       "  right: .2ex;\n",
       "  padding: .5ex;\n",
       "  margin: .5ex;\n",
       "  width: min-content;\n",
       "  min-width: 20ex;\n",
       "  max-width: 50ex;\n",
       "  color: var(--sklearn-color-text);\n",
       "  box-shadow: 2pt 2pt 4pt #999;\n",
       "  /* unfitted */\n",
       "  background: var(--sklearn-color-unfitted-level-0);\n",
       "  border: .5pt solid var(--sklearn-color-unfitted-level-3);\n",
       "}\n",
       "\n",
       ".sk-estimator-doc-link.fitted span {\n",
       "  /* fitted */\n",
       "  background: var(--sklearn-color-fitted-level-0);\n",
       "  border: var(--sklearn-color-fitted-level-3);\n",
       "}\n",
       "\n",
       ".sk-estimator-doc-link:hover span {\n",
       "  display: block;\n",
       "}\n",
       "\n",
       "/* \"?\"-specific style due to the `<a>` HTML tag */\n",
       "\n",
       "#sk-container-id-1 a.estimator_doc_link {\n",
       "  float: right;\n",
       "  font-size: 1rem;\n",
       "  line-height: 1em;\n",
       "  font-family: monospace;\n",
       "  background-color: var(--sklearn-color-background);\n",
       "  border-radius: 1rem;\n",
       "  height: 1rem;\n",
       "  width: 1rem;\n",
       "  text-decoration: none;\n",
       "  /* unfitted */\n",
       "  color: var(--sklearn-color-unfitted-level-1);\n",
       "  border: var(--sklearn-color-unfitted-level-1) 1pt solid;\n",
       "}\n",
       "\n",
       "#sk-container-id-1 a.estimator_doc_link.fitted {\n",
       "  /* fitted */\n",
       "  border: var(--sklearn-color-fitted-level-1) 1pt solid;\n",
       "  color: var(--sklearn-color-fitted-level-1);\n",
       "}\n",
       "\n",
       "/* On hover */\n",
       "#sk-container-id-1 a.estimator_doc_link:hover {\n",
       "  /* unfitted */\n",
       "  background-color: var(--sklearn-color-unfitted-level-3);\n",
       "  color: var(--sklearn-color-background);\n",
       "  text-decoration: none;\n",
       "}\n",
       "\n",
       "#sk-container-id-1 a.estimator_doc_link.fitted:hover {\n",
       "  /* fitted */\n",
       "  background-color: var(--sklearn-color-fitted-level-3);\n",
       "}\n",
       "</style><div id=\"sk-container-id-1\" class=\"sk-top-container\"><div class=\"sk-text-repr-fallback\"><pre>KNeighborsRegressor()</pre><b>In a Jupyter environment, please rerun this cell to show the HTML representation or trust the notebook. <br />On GitHub, the HTML representation is unable to render, please try loading this page with nbviewer.org.</b></div><div class=\"sk-container\" hidden><div class=\"sk-item\"><div class=\"sk-estimator fitted sk-toggleable\"><input class=\"sk-toggleable__control sk-hidden--visually\" id=\"sk-estimator-id-1\" type=\"checkbox\" checked><label for=\"sk-estimator-id-1\" class=\"sk-toggleable__label fitted sk-toggleable__label-arrow\"><div><div>KNeighborsRegressor</div></div><div><a class=\"sk-estimator-doc-link fitted\" rel=\"noreferrer\" target=\"_blank\" href=\"https://scikit-learn.org/1.6/modules/generated/sklearn.neighbors.KNeighborsRegressor.html\">?<span>Documentation for KNeighborsRegressor</span></a><span class=\"sk-estimator-doc-link fitted\">i<span>Fitted</span></span></div></label><div class=\"sk-toggleable__content fitted\"><pre>KNeighborsRegressor()</pre></div> </div></div></div></div>"
      ]
     },
     "execution_count": 30,
     "metadata": {},
     "output_type": "execute_result"
    }
   ],
   "execution_count": 30
  },
  {
   "cell_type": "code",
   "metadata": {
    "ExecuteTime": {
     "end_time": "2025-02-04T08:09:40.586707Z",
     "start_time": "2025-02-04T08:09:40.582437Z"
    }
   },
   "source": [
    "# 예측\n",
    "pred_y = clf_knn.predict(X_te_std)"
   ],
   "outputs": [],
   "execution_count": 31
  },
  {
   "cell_type": "code",
   "metadata": {
    "ExecuteTime": {
     "end_time": "2025-02-04T08:09:41.190061Z",
     "start_time": "2025-02-04T08:09:41.186309Z"
    }
   },
   "source": [
    "pred_y"
   ],
   "outputs": [
    {
     "data": {
      "text/plain": [
       "array([9.20800e+00, 1.84600e+00, 1.64340e+01, 1.88200e+00, 7.12400e+00,\n",
       "       4.40800e+00, 1.27320e+01, 9.36400e+00, 8.96400e+00, 1.16320e+01,\n",
       "       3.23000e+00, 1.26240e+01, 1.89200e+00, 1.25740e+01, 2.21200e+00,\n",
       "       9.53400e+00, 2.27460e+01, 1.27200e+00, 1.27600e+00, 5.18600e+00,\n",
       "       1.20920e+01, 3.62000e+00, 7.33800e+00, 4.26420e+01, 3.64860e+01,\n",
       "       1.79200e+00, 9.48000e-01, 2.51800e+00, 5.19000e+00, 2.09940e+01,\n",
       "       9.27000e+00, 4.47200e+00, 1.11600e+00, 1.67280e+02, 1.49550e+02,\n",
       "       1.68980e+01, 0.00000e+00, 2.17600e+00, 2.06200e+00, 1.66726e+02,\n",
       "       6.06400e+00, 7.79400e+00, 1.17640e+01, 6.91000e+00, 7.67000e+00,\n",
       "       1.25800e+01, 1.08000e+00, 1.49400e+00, 4.25760e+01, 2.13260e+01,\n",
       "       1.11240e+01, 2.09940e+01, 7.51600e+00, 0.00000e+00, 1.07000e+00,\n",
       "       0.00000e+00, 2.87000e+00, 3.77000e+00, 2.24800e+00, 8.14200e+00,\n",
       "       1.04840e+01, 1.77000e+00, 2.60500e+01, 2.86400e+00, 1.20920e+01,\n",
       "       4.26420e+01, 3.40800e+01, 2.22040e+01, 1.78200e+00, 1.13200e+00,\n",
       "       1.85200e+00, 3.36000e+00, 1.42440e+01, 1.49610e+02, 3.23000e+00,\n",
       "       3.24600e+00, 3.55200e+00, 1.44000e-01, 2.10220e+01, 1.07000e+00,\n",
       "       4.87600e+00, 9.04800e+00, 0.00000e+00, 1.29040e+01, 2.26400e+00,\n",
       "       5.57060e+01, 2.38400e+00, 0.00000e+00, 2.55800e+00, 2.34600e+00,\n",
       "       3.67000e+00, 1.28000e+00, 1.97820e+01, 7.46600e+00, 6.42000e+00,\n",
       "       2.51800e+00, 1.27600e+00, 3.44200e+00, 4.30400e+00, 2.15640e+01,\n",
       "       8.67000e+00, 2.94000e+00, 1.28020e+01, 2.70000e-01, 1.71800e+00,\n",
       "       7.28000e-01, 7.16600e+00, 8.62200e+00, 2.29260e+01, 4.22600e+00,\n",
       "       6.74800e+00, 7.52600e+00, 1.14640e+01, 1.47600e+01, 3.27800e+00,\n",
       "       8.00600e+00, 8.21600e+00, 3.77000e+00, 1.99200e+00, 8.31200e+00,\n",
       "       2.44600e+00, 2.09940e+01, 2.54000e+00, 1.17980e+01, 2.38000e-01,\n",
       "       5.19200e+00, 5.52000e-01, 3.27800e+00, 8.97200e+00, 0.00000e+00])"
      ]
     },
     "execution_count": 32,
     "metadata": {},
     "output_type": "execute_result"
    }
   ],
   "execution_count": 32
  },
  {
   "cell_type": "code",
   "metadata": {
    "ExecuteTime": {
     "end_time": "2025-02-04T08:09:41.999713Z",
     "start_time": "2025-02-04T08:09:41.996623Z"
    }
   },
   "source": [
    "# 모형 평가-MSE\n",
    "from sklearn.metrics import mean_squared_error\n",
    "\n",
    "print(mean_squared_error(y_te, pred_y))"
   ],
   "outputs": [
    {
     "name": "stdout",
     "output_type": "stream",
     "text": [
      "10710.621275692307\n"
     ]
    }
   ],
   "execution_count": 33
  }
 ],
 "metadata": {
  "kernelspec": {
   "display_name": "Python 3",
   "language": "python",
   "name": "python3"
  },
  "language_info": {
   "codemirror_mode": {
    "name": "ipython",
    "version": 3
   },
   "file_extension": ".py",
   "mimetype": "text/x-python",
   "name": "python",
   "nbconvert_exporter": "python",
   "pygments_lexer": "ipython3",
   "version": "3.8.5"
  }
 },
 "nbformat": 4,
 "nbformat_minor": 4
}
